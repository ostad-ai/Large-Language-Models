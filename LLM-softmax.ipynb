{
 "cells": [
  {
   "cell_type": "markdown",
   "id": "f220daa4",
   "metadata": {},
   "source": [
    "# Large Language Models (LLMs)\n",
    "## The softmax function\n",
    "The **softmax** is a function that converts a vector $\\boldsymbol{z}=[z_0,z_1,...,z_{q-1}]^T$ of real values into a vector of probabilities $\\boldsymbol{p}=[p_0,p_1,...,p_{q-1}]^T$ using the following formula:\n",
    "<br> $\\large p_i=\\frac{exp(z_i)}{\\sum_{j=0}^{q-1}exp(z_j)}$, for $i=0,1,...,q-1$\n",
    "<br> **Hint:** For numerical stability, we subtract the maximum of components of vector $z$ from all its components before using the softmax.\n",
    "<br> **Reminder:** The softmax **amplifies differences**. Thus, it gives more emphasis to the components with larger values.\n",
    "<br> In the following, we implement the formula of softmax for a given vector.\n",
    "<br>The code is at : https://github.com/ostad-ai/Large-Language-Models\n",
    "<br>Explanation: https://www.pinterest.com/HamedShahHosseini/Deep-Learning/Large-Language-Models"
   ]
  },
  {
   "cell_type": "code",
   "execution_count": 1,
   "id": "80e394ce",
   "metadata": {},
   "outputs": [],
   "source": [
    "# Importing the required module\n",
    "import numpy as np"
   ]
  },
  {
   "cell_type": "code",
   "execution_count": 2,
   "id": "e905c9ee",
   "metadata": {},
   "outputs": [],
   "source": [
    "# softmax function\n",
    "# input: a numpy-array, output: a numpy-array\n",
    "def softmax(z,safe=True):\n",
    "    if safe: # subtracting maximum from components\n",
    "        exp_z=np.exp(z-np.max(z))\n",
    "    else:\n",
    "        exp_z=np.exp(z)\n",
    "    return exp_z/np.sum(exp_z)"
   ]
  },
  {
   "cell_type": "code",
   "execution_count": 3,
   "id": "427bf08d",
   "metadata": {},
   "outputs": [
    {
     "name": "stdout",
     "output_type": "stream",
     "text": [
      "Example with Softmax:\n",
      "Input vector: [1.  3.  0.5]\n",
      "output of softmax (Probabilities): [0.11116562 0.82140902 0.06742536]\n",
      "Sum of probabilities (for checking): 0.9999999999999999\n"
     ]
    }
   ],
   "source": [
    "# Example\n",
    "z_in=np.array([1,3,.5])\n",
    "probs=softmax(z_in)\n",
    "print('Example with Softmax:')\n",
    "print(f'Input vector: {z_in}')\n",
    "print(f'output of softmax (Probabilities): {probs}')\n",
    "print(f'Sum of probabilities (for checking): {np.sum(probs)}')"
   ]
  },
  {
   "cell_type": "code",
   "execution_count": null,
   "id": "8f6af090",
   "metadata": {},
   "outputs": [],
   "source": []
  }
 ],
 "metadata": {
  "kernelspec": {
   "display_name": "Python 3 (ipykernel)",
   "language": "python",
   "name": "python3"
  },
  "language_info": {
   "codemirror_mode": {
    "name": "ipython",
    "version": 3
   },
   "file_extension": ".py",
   "mimetype": "text/x-python",
   "name": "python",
   "nbconvert_exporter": "python",
   "pygments_lexer": "ipython3",
   "version": "3.11.1"
  }
 },
 "nbformat": 4,
 "nbformat_minor": 5
}
